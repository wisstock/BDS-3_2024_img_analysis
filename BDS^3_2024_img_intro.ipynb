{
 "cells": [
  {
   "cell_type": "markdown",
   "metadata": {},
   "source": [
    "BDS^3 2024\n",
    "==========\n",
    "\n",
    "## Вступ до аналізу зобраржень в Python\n",
    "---\n",
    "_Borys Olifirov, 07.2024, Uzhhorod_"
   ]
  },
  {
   "cell_type": "code",
   "execution_count": null,
   "metadata": {},
   "outputs": [],
   "source": [
    "import numpy as np\n",
    "import skimage\n",
    "import matplotlib.pyplot as plt"
   ]
  },
  {
   "cell_type": "markdown",
   "metadata": {},
   "source": [
    "# Робота з масивами NumPy\n",
    "---"
   ]
  },
  {
   "cell_type": "code",
   "execution_count": null,
   "metadata": {},
   "outputs": [],
   "source": [
    "demo_arr = np.array([0, 1, 4, 6, 2])\n",
    "demo_arr"
   ]
  },
  {
   "cell_type": "code",
   "execution_count": null,
   "metadata": {},
   "outputs": [],
   "source": [
    "demo_list = [0, 1, 4, 6, 2]\n",
    "demo_list"
   ]
  },
  {
   "cell_type": "code",
   "execution_count": null,
   "metadata": {},
   "outputs": [],
   "source": [
    "demo_list > 1"
   ]
  },
  {
   "cell_type": "code",
   "execution_count": null,
   "metadata": {},
   "outputs": [],
   "source": [
    "demo_arr > 1"
   ]
  },
  {
   "cell_type": "markdown",
   "metadata": {},
   "source": [
    "# Зображення як масиви NumPy\n",
    "---"
   ]
  },
  {
   "cell_type": "markdown",
   "metadata": {},
   "source": [
    "### Побудова масок та гістонрами зображення"
   ]
  },
  {
   "cell_type": "code",
   "execution_count": null,
   "metadata": {},
   "outputs": [],
   "source": [
    "image = skimage.io.imread('data/cell_image_exercise.tif')\n",
    "image.shape"
   ]
  },
  {
   "cell_type": "code",
   "execution_count": null,
   "metadata": {},
   "outputs": [],
   "source": [
    "plt.imshow(image, cmap='jet')"
   ]
  },
  {
   "cell_type": "code",
   "execution_count": null,
   "metadata": {},
   "outputs": [],
   "source": [
    "simple_mask = image > 500"
   ]
  },
  {
   "cell_type": "code",
   "execution_count": null,
   "metadata": {},
   "outputs": [],
   "source": [
    "print(simple_mask.shape)\n",
    "print(image.shape)"
   ]
  },
  {
   "cell_type": "code",
   "execution_count": null,
   "metadata": {},
   "outputs": [],
   "source": [
    "plt.imshow(simple_mask)"
   ]
  },
  {
   "cell_type": "code",
   "execution_count": null,
   "metadata": {},
   "outputs": [],
   "source": [
    "plt.imshow(image, cmap='jet')"
   ]
  },
  {
   "cell_type": "code",
   "execution_count": null,
   "metadata": {},
   "outputs": [],
   "source": [
    "plt.hist(image.ravel(), bins=256)\n",
    "plt.show()"
   ]
  },
  {
   "cell_type": "markdown",
   "metadata": {},
   "source": [
    "### Сегментація зображення з використання мульти-Отсу"
   ]
  },
  {
   "cell_type": "code",
   "execution_count": null,
   "metadata": {},
   "outputs": [],
   "source": [
    "th_otsu = skimage.filters.threshold_otsu(image)\n",
    "th_otsu"
   ]
  },
  {
   "cell_type": "code",
   "execution_count": null,
   "metadata": {},
   "outputs": [],
   "source": [
    "otsu_mask = image > th_otsu\n",
    "plt.imshow(otsu_mask)\n",
    "plt.show()\n",
    "\n",
    "plt.imshow(simple_mask)\n",
    "plt.show()"
   ]
  },
  {
   "cell_type": "code",
   "execution_count": null,
   "metadata": {},
   "outputs": [],
   "source": [
    "multi_otsu_th = skimage.filters.threshold_multiotsu(image)\n",
    "multi_otsu_th"
   ]
  },
  {
   "cell_type": "code",
   "execution_count": null,
   "metadata": {},
   "outputs": [],
   "source": [
    "cell_segments = np.digitize(image, bins=multi_otsu_th)\n",
    "\n",
    "plt.imshow(image)\n",
    "plt.show()\n",
    "plt.imshow(cell_segments)\n",
    "plt.show()"
   ]
  },
  {
   "cell_type": "markdown",
   "metadata": {},
   "source": [
    "### Фільтр Гауса"
   ]
  },
  {
   "cell_type": "code",
   "execution_count": null,
   "metadata": {},
   "outputs": [],
   "source": [
    "plt.plot(image[130, :])"
   ]
  },
  {
   "cell_type": "code",
   "execution_count": null,
   "metadata": {},
   "outputs": [],
   "source": [
    "image_filtered = skimage.filters.gaussian(image, sigma=2)\n",
    "\n",
    "plt.imshow(image_filtered)\n",
    "plt.show()\n",
    "\n",
    "plt.imshow(image)\n",
    "plt.show()"
   ]
  },
  {
   "cell_type": "markdown",
   "metadata": {},
   "source": [
    "### Морфологічні оператори"
   ]
  },
  {
   "cell_type": "code",
   "execution_count": null,
   "metadata": {},
   "outputs": [],
   "source": [
    "plt.imshow(cell_segments)\n",
    "plt.show()"
   ]
  },
  {
   "cell_type": "code",
   "execution_count": null,
   "metadata": {},
   "outputs": [],
   "source": [
    "nucl_mask = ~(cell_segments < 2)\n",
    "\n",
    "plt.imshow(nucl_mask)\n",
    "plt.show()"
   ]
  },
  {
   "cell_type": "code",
   "execution_count": null,
   "metadata": {},
   "outputs": [],
   "source": [
    "demo_arr = [[0, 1, 0, 0],\n",
    "            [0, 1, 1, 0],\n",
    "            [0, 1, 1, 0],\n",
    "            [0, 0, 0, 0]]\n",
    "\n",
    "plt.imshow(demo_arr)"
   ]
  },
  {
   "cell_type": "code",
   "execution_count": null,
   "metadata": {},
   "outputs": [],
   "source": [
    "foot = [[1,1,1],\n",
    "        [1,1,1],\n",
    "        [1,1,1]]\n",
    "disk_foot = skimage.morphology.disk(20)\n",
    "nucl_erosion = skimage.morphology.erosion(nucl_mask, footprint=disk_foot)\n",
    "\n",
    "plt.imshow(nucl_mask)\n",
    "plt.show()\n",
    "\n",
    "plt.imshow(nucl_erosion)\n",
    "plt.show()"
   ]
  },
  {
   "cell_type": "code",
   "execution_count": null,
   "metadata": {},
   "outputs": [],
   "source": [
    "disk_foot_d = skimage.morphology.disk(10)\n",
    "nucl_dilation = skimage.morphology.dilation(nucl_mask, footprint=disk_foot_d)\n",
    "\n",
    "plt.imshow(nucl_mask)\n",
    "plt.show()\n",
    "\n",
    "plt.imshow(nucl_dilation)\n",
    "plt.show()"
   ]
  },
  {
   "cell_type": "code",
   "execution_count": null,
   "metadata": {},
   "outputs": [],
   "source": [
    "foot_e_d = skimage.morphology.disk(5)\n",
    "\n",
    "eroded_mask = skimage.morphology.erosion(nucl_mask, footprint=foot_e_d)\n",
    "fin_mask = skimage.morphology.dilation(eroded_mask, footprint=foot_e_d) \n",
    "\n",
    "plt.imshow(nucl_mask)\n",
    "plt.show()\n",
    "\n",
    "plt.imshow(fin_mask)\n",
    "plt.show()"
   ]
  },
  {
   "cell_type": "code",
   "execution_count": null,
   "metadata": {},
   "outputs": [],
   "source": [
    "op_mask = skimage.morphology.opening(nucl_mask, footprint=foot_e_d)\n",
    "\n",
    "plt.imshow(op_mask)"
   ]
  },
  {
   "cell_type": "markdown",
   "metadata": {},
   "source": [
    "# Аналіз серії зображень\n",
    "---"
   ]
  },
  {
   "cell_type": "code",
   "execution_count": null,
   "metadata": {},
   "outputs": [],
   "source": [
    "image_series = skimage.io.imread('data/cell_series.tif')\n",
    "image_series.shape"
   ]
  },
  {
   "cell_type": "code",
   "execution_count": null,
   "metadata": {},
   "outputs": [],
   "source": [
    "plt.imshow(image_series[0])"
   ]
  },
  {
   "cell_type": "code",
   "execution_count": null,
   "metadata": {},
   "outputs": [],
   "source": [
    "ctrl_img = np.mean(image_series, axis=0)\n",
    "\n",
    "plt.imshow(ctrl_img, cmap='jet')\n",
    "plt.show()\n",
    "\n",
    "plt.imshow(image_series[15], cmap='jet')\n",
    "plt.show()"
   ]
  },
  {
   "cell_type": "code",
   "execution_count": null,
   "metadata": {},
   "outputs": [],
   "source": [
    "ctrl_img_blure = skimage.filters.gaussian(ctrl_img, sigma=1.5)      # розмиття картинки\n",
    "th_multi = skimage.filters.threshold_multiotsu(ctrl_img_blure)      # обчислення порогів мульти Отсу\n",
    "ctrl_img_segmentation = np.digitize(ctrl_img_blure, bins=th_multi)  # сегментація картинки"
   ]
  },
  {
   "cell_type": "code",
   "execution_count": null,
   "metadata": {},
   "outputs": [],
   "source": [
    "plt.imshow(ctrl_img_segmentation)"
   ]
  },
  {
   "cell_type": "markdown",
   "metadata": {},
   "source": [
    "Побудова масок елементів клітини"
   ]
  },
  {
   "cell_type": "code",
   "execution_count": null,
   "metadata": {},
   "outputs": [],
   "source": [
    "cytoplasm_mask = ctrl_img_segmentation == 1\n",
    "plt.imshow(cytoplasm_mask)"
   ]
  },
  {
   "cell_type": "code",
   "execution_count": null,
   "metadata": {},
   "outputs": [],
   "source": [
    "nucleus_mask = ctrl_img_segmentation == 2\n",
    "plt.imshow(nucleus_mask)"
   ]
  },
  {
   "cell_type": "code",
   "execution_count": null,
   "metadata": {},
   "outputs": [],
   "source": [
    "from numpy import ma\n",
    "\n",
    "masked_cytoplasm = ma.masked_where(~cytoplasm_mask, ctrl_img)\n",
    "\n",
    "plt.imshow(masked_cytoplasm)"
   ]
  },
  {
   "cell_type": "code",
   "execution_count": null,
   "metadata": {},
   "outputs": [],
   "source": [
    "np.mean(masked_cytoplasm)"
   ]
  },
  {
   "cell_type": "code",
   "execution_count": null,
   "metadata": {},
   "outputs": [],
   "source": [
    "plt.imshow(cytoplasm_mask)\n",
    "plt.show()\n",
    "\n",
    "plt.imshow(nucleus_mask)\n",
    "plt.show()"
   ]
  },
  {
   "cell_type": "code",
   "execution_count": null,
   "metadata": {},
   "outputs": [],
   "source": [
    "cytoplasm_int_profile = []\n",
    "\n",
    "for single_frame in image_series:\n",
    "    masked_frame = ma.masked_where(~cytoplasm_mask, single_frame)\n",
    "    frame_mean = np.mean(masked_frame)\n",
    "    cytoplasm_int_profile.append(frame_mean)\n",
    "\n",
    "plt.plot(cytoplasm_int_profile)"
   ]
  },
  {
   "cell_type": "code",
   "execution_count": null,
   "metadata": {},
   "outputs": [],
   "source": [
    "nucleus_int_profile = []\n",
    "\n",
    "for single_frame in image_series:\n",
    "    masked_frame = ma.masked_where(~nucleus_mask, single_frame)\n",
    "    frame_mean = np.mean(masked_frame)\n",
    "    nucleus_int_profile.append(frame_mean)\n",
    "\n",
    "plt.plot(nucleus_int_profile)"
   ]
  },
  {
   "cell_type": "code",
   "execution_count": null,
   "metadata": {},
   "outputs": [],
   "source": [
    "plt.figure(figsize=[12, 3])\n",
    "plt.plot(cytoplasm_int_profile, label='Cytoplasm')\n",
    "plt.plot(nucleus_int_profile, label='Nucleus')\n",
    "\n",
    "plt.xlabel('Frame num')\n",
    "plt.ylabel('Intencity, a.u.')\n",
    "plt.legend()\n"
   ]
  },
  {
   "cell_type": "code",
   "execution_count": null,
   "metadata": {},
   "outputs": [],
   "source": [
    "demo_arr = np.asarray(demo_list)\n",
    "\n",
    "demo_list_new = [list_element + 1 for list_element in demo_list]\n",
    "\n",
    "print(demo_list)\n",
    "print(demo_list_new)\n",
    "\n"
   ]
  },
  {
   "cell_type": "code",
   "execution_count": null,
   "metadata": {},
   "outputs": [],
   "source": [
    "import pandas as pd"
   ]
  },
  {
   "cell_type": "code",
   "execution_count": null,
   "metadata": {},
   "outputs": [],
   "source": [
    "frame_num_list = list(range(1, 31))"
   ]
  },
  {
   "cell_type": "code",
   "execution_count": null,
   "metadata": {},
   "outputs": [],
   "source": [
    "demo_dict = {1:'a', 'b':2}"
   ]
  },
  {
   "cell_type": "code",
   "execution_count": null,
   "metadata": {},
   "outputs": [],
   "source": [
    "dict_for_df = {'frame_num':frame_num_list,\n",
    "               'nucl_int': nucleus_int_profile,\n",
    "               'cyto_int':cytoplasm_int_profile}"
   ]
  },
  {
   "cell_type": "code",
   "execution_count": null,
   "metadata": {},
   "outputs": [],
   "source": [
    "int_profiles_df = pd.DataFrame(dict_for_df)\n",
    "int_profiles_df"
   ]
  },
  {
   "cell_type": "markdown",
   "metadata": {},
   "source": [
    "# Детекція багатаьох об'єктів на зображені\n",
    "---"
   ]
  },
  {
   "cell_type": "code",
   "execution_count": null,
   "metadata": {},
   "outputs": [],
   "source": [
    "cells_image = skimage.data.human_mitosis()\n",
    "plt.imshow(cells_image, cmap='jet')"
   ]
  },
  {
   "cell_type": "code",
   "execution_count": null,
   "metadata": {},
   "outputs": [],
   "source": [
    "cells_mask = cells_image > skimage.filters.threshold_otsu(cells_image)\n",
    "plt.imshow(cells_mask)"
   ]
  },
  {
   "cell_type": "code",
   "execution_count": null,
   "metadata": {},
   "outputs": [],
   "source": [
    "cells_labels = skimage.morphology.label(cells_mask)\n",
    "plt.imshow(cells_labels, cmap='jet')"
   ]
  },
  {
   "cell_type": "code",
   "execution_count": null,
   "metadata": {},
   "outputs": [],
   "source": [
    "plt.imshow(cells_labels == 150)"
   ]
  }
 ],
 "metadata": {
  "kernelspec": {
   "display_name": "bds3_env",
   "language": "python",
   "name": "python3"
  },
  "language_info": {
   "codemirror_mode": {
    "name": "ipython",
    "version": 3
   },
   "file_extension": ".py",
   "mimetype": "text/x-python",
   "name": "python",
   "nbconvert_exporter": "python",
   "pygments_lexer": "ipython3",
   "version": "3.12.3"
  },
  "orig_nbformat": 4
 },
 "nbformat": 4,
 "nbformat_minor": 2
}
