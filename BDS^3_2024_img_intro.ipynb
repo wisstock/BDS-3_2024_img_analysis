{
 "cells": [
  {
   "cell_type": "markdown",
   "metadata": {},
   "source": [
    "BDS^3 2024\n",
    "==========\n",
    "\n",
    "## Масиви та зобрарження в Python\n",
    "---\n",
    "_Borys Olifirov, 07.2024, Uzhhorod_"
   ]
  },
  {
   "cell_type": "code",
   "execution_count": null,
   "metadata": {},
   "outputs": [],
   "source": [
    "import numpy as np\n",
    "import skimage\n",
    "import matplotlib.pyplot as plt"
   ]
  },
  {
   "cell_type": "markdown",
   "metadata": {},
   "source": [
    "# Списки vs. масиви\n",
    "---"
   ]
  },
  {
   "cell_type": "markdown",
   "metadata": {},
   "source": [
    "## Основні властивості"
   ]
  },
  {
   "cell_type": "code",
   "execution_count": null,
   "metadata": {},
   "outputs": [],
   "source": [
    "demo_list = [0, 1, 4, 6, 2]\n",
    "demo_list"
   ]
  },
  {
   "cell_type": "code",
   "execution_count": null,
   "metadata": {},
   "outputs": [],
   "source": [
    "demo_arr = np.array([0, 1, 4, 6, 2])\n",
    "demo_arr"
   ]
  },
  {
   "cell_type": "code",
   "execution_count": null,
   "metadata": {},
   "outputs": [],
   "source": [
    "demo_arr > 1"
   ]
  },
  {
   "cell_type": "code",
   "execution_count": null,
   "metadata": {},
   "outputs": [],
   "source": [
    "try:\n",
    "    demo_list > 1\n",
    "except TypeError:\n",
    "    print('Imposible operation')"
   ]
  },
  {
   "cell_type": "markdown",
   "metadata": {},
   "source": [
    "## Багатовимірність та індексація"
   ]
  },
  {
   "cell_type": "code",
   "execution_count": null,
   "metadata": {},
   "outputs": [],
   "source": [
    "list_2d = [[1,2],[3,4]]\n",
    "list_2d"
   ]
  },
  {
   "cell_type": "code",
   "execution_count": null,
   "metadata": {},
   "outputs": [],
   "source": [
    "arr_2d = np.array([[1,2],[3,4],[5,6]])\n",
    "print(arr_2d.shape)\n",
    "arr_2d"
   ]
  },
  {
   "cell_type": "code",
   "execution_count": null,
   "metadata": {},
   "outputs": [],
   "source": [
    "arr_2d[0,0]"
   ]
  },
  {
   "cell_type": "code",
   "execution_count": null,
   "metadata": {},
   "outputs": [],
   "source": [
    "arr_2d[:2,0]"
   ]
  },
  {
   "cell_type": "markdown",
   "metadata": {},
   "source": [
    "<img src=\"pictures/img_arr_structure.png\" style=\"zoom:90%;\" />"
   ]
  },
  {
   "cell_type": "markdown",
   "metadata": {},
   "source": [
    "# Зображення як масиви NumPy\n",
    "---"
   ]
  },
  {
   "cell_type": "markdown",
   "metadata": {},
   "source": [
    "## Зчитування та відображення зображень"
   ]
  },
  {
   "cell_type": "code",
   "execution_count": null,
   "metadata": {},
   "outputs": [],
   "source": [
    "# demo_image = skimage.data.human_mitosis()\n",
    "image = skimage.io.imread('data/2D_grey_matter_neurofilaments.tif')\n",
    "image.shape"
   ]
  },
  {
   "cell_type": "code",
   "execution_count": null,
   "metadata": {},
   "outputs": [],
   "source": [
    "plt.figure(figsize=(10,10))\n",
    "plt.imshow(image, cmap='Greys_r')"
   ]
  },
  {
   "cell_type": "code",
   "execution_count": null,
   "metadata": {},
   "outputs": [],
   "source": [
    "crop_image = image[1100:1500,350:750]\n",
    "print(crop_image.shape)\n",
    "\n",
    "plt.figure(figsize=(10,10))\n",
    "plt.imshow(crop_image, cmap='Greys_r')"
   ]
  },
  {
   "cell_type": "markdown",
   "metadata": {},
   "source": [
    "## Кольорові мапи"
   ]
  },
  {
   "cell_type": "code",
   "execution_count": null,
   "metadata": {},
   "outputs": [],
   "source": [
    "from matplotlib.colors import LinearSegmentedColormap\n",
    "\n",
    "def plot_linearmap(cdict):\n",
    "    newcmp = LinearSegmentedColormap('testCmap', segmentdata=cdict, N=256)\n",
    "    rgba = newcmp(np.linspace(0, 1, 256))\n",
    "    fig, ax = plt.subplots(figsize=(4, 3), constrained_layout=True)\n",
    "    col = ['r', 'g', 'b']\n",
    "    for i in range(3):\n",
    "        ax.plot(np.arange(256)/256, rgba[:, i], color=col[i])\n",
    "    ax.set_xlabel('index')\n",
    "    ax.set_ylabel('RGB')\n",
    "    plt.show()"
   ]
  },
  {
   "cell_type": "code",
   "execution_count": null,
   "metadata": {},
   "outputs": [],
   "source": [
    "# створення та відображення кольорової мапи\n",
    "dict_red = {'red':(\n",
    "            (0.0, 0.0, 0.0),\n",
    "            (0.5, 0.4, 0.4),\n",
    "            (1.0, 1.0, 1.0)),\n",
    "            'blue':(\n",
    "            (0.0, 0.0, 0.0),\n",
    "            (1.0, 0.0, 0.0)),\n",
    "            'green':(\n",
    "            (0.0, 0.0, 0.0),\n",
    "            (1.0, 0.0, 0.0))}\n",
    "cmap_red = LinearSegmentedColormap('Red_cmap', dict_red)\n",
    "\n",
    "plot_linearmap(dict_red)\n",
    "\n",
    "plt.figure(figsize=(10,10))\n",
    "plt.imshow(crop_image, cmap=cmap_red)"
   ]
  },
  {
   "cell_type": "code",
   "execution_count": null,
   "metadata": {},
   "outputs": [],
   "source": [
    "dict_blue_red = {'red':(\n",
    "                 (0.0, 0.0, 0.0),\n",
    "                 (0.6, 0.25, 0.25),\n",
    "                 (1.0, 1.0, 1.0)),\n",
    "                 'blue':(\n",
    "                 (0.0, 1.0, 1.0),\n",
    "                 (0.4, 0.25, 0.25),\n",
    "                 (1.0, 0.0, 0.0)),\n",
    "                 'green':(\n",
    "                 (0.0, 0.0, 0.0),\n",
    "                 (0.2, 0.0, 0.0),\n",
    "                 (0.5, 1.0, 1.0),\n",
    "                 (0.8, 0.0, 0.0),\n",
    "                 (1.0, 0.0, 0.0))}\n",
    "cmap_blue_red = LinearSegmentedColormap('BR_cmap', dict_blue_red)\n",
    "\n",
    "plot_linearmap(dict_blue_red)\n",
    "\n",
    "plt.figure(figsize=(10,10))\n",
    "plt.imshow(crop_image, cmap=cmap_blue_red)"
   ]
  },
  {
   "cell_type": "markdown",
   "metadata": {},
   "source": [
    "## Гістограма зображення та просте маскування"
   ]
  },
  {
   "cell_type": "code",
   "execution_count": null,
   "metadata": {},
   "outputs": [],
   "source": [
    "print(crop_image.min())\n",
    "print(crop_image.max())\n",
    "\n",
    "plt.figure(figsize=(15,5))\n",
    "plt.hist(image.ravel(), bins=256)\n",
    "plt.show()"
   ]
  },
  {
   "cell_type": "code",
   "execution_count": null,
   "metadata": {},
   "outputs": [],
   "source": [
    "simple_mask = crop_image > 700\n",
    "\n",
    "print(simple_mask.shape)\n",
    "print(image.shape)\n",
    "\n",
    "plt.figure(figsize=(10,10))\n",
    "plt.imshow(simple_mask)"
   ]
  },
  {
   "cell_type": "markdown",
   "metadata": {},
   "source": [
    "## Сегментація зображення з використання методу Отсу"
   ]
  },
  {
   "cell_type": "code",
   "execution_count": null,
   "metadata": {},
   "outputs": [],
   "source": [
    "th_otsu = skimage.filters.threshold_otsu(crop_image)\n",
    "print(th_otsu)\n",
    "\n",
    "plt.figure(figsize=(15,5))\n",
    "plt.hist(crop_image.ravel(), bins=256)\n",
    "plt.axvline(x=th_otsu, linestyle='--', color='k')\n",
    "plt.show()"
   ]
  },
  {
   "cell_type": "code",
   "execution_count": null,
   "metadata": {},
   "outputs": [],
   "source": [
    "plt.figure(figsize=(15,5))\n",
    "plt.hist(crop_image.ravel(), bins=256)\n",
    "plt.axvline(x=th_otsu, linestyle='--', color='k')\n",
    "plt.yscale('log')\n",
    "plt.show()"
   ]
  },
  {
   "cell_type": "code",
   "execution_count": null,
   "metadata": {},
   "outputs": [],
   "source": [
    "otsu_mask = crop_image > th_otsu\n",
    "\n",
    "fig, (ax0, ax1) = plt.subplots(ncols=2, figsize=(15,7))\n",
    "ax0.imshow(simple_mask)\n",
    "ax0.set_title('Simple mask')\n",
    "ax1.imshow(otsu_mask)\n",
    "ax1.set_title('Otsu mask')\n",
    "plt.show()"
   ]
  },
  {
   "cell_type": "markdown",
   "metadata": {},
   "source": [
    "## Сегментація зображення з використання методу мульти Отсу"
   ]
  },
  {
   "cell_type": "code",
   "execution_count": null,
   "metadata": {},
   "outputs": [],
   "source": [
    "multi_otsu_th = skimage.filters.threshold_multiotsu(crop_image, classes=3)\n",
    "print(multi_otsu_th)\n",
    "\n",
    "plt.figure(figsize=(15,5))\n",
    "plt.hist(crop_image.ravel(), bins=256)\n",
    "plt.axvline(x=multi_otsu_th[0], linestyle='--', color='k')\n",
    "plt.axvline(x=multi_otsu_th[-1], linestyle='--', color='k')\n",
    "plt.yscale('log')\n",
    "plt.show()"
   ]
  },
  {
   "cell_type": "code",
   "execution_count": null,
   "metadata": {},
   "outputs": [],
   "source": [
    "multiotsu_mask = np.digitize(crop_image, bins=multi_otsu_th)\n",
    "\n",
    "fig, (ax0, ax1) = plt.subplots(ncols=2, figsize=(15,7))\n",
    "ax0.imshow(crop_image, cmap='Greys_r')\n",
    "ax0.set_title('Image')\n",
    "ax1.imshow(multiotsu_mask, cmap='seismic')\n",
    "ax1.set_title('Multi-Otsu mask')\n",
    "plt.show()"
   ]
  },
  {
   "cell_type": "markdown",
   "metadata": {},
   "source": [
    "## Фільтрація зображень"
   ]
  },
  {
   "cell_type": "code",
   "execution_count": null,
   "metadata": {},
   "outputs": [],
   "source": [
    "line_num = 250\n",
    "image_line = crop_image[line_num,:]\n",
    "\n",
    "fig, (ax0, ax1) = plt.subplots(ncols=2, figsize=(15,7))\n",
    "ax0.imshow(crop_image, cmap='Greys_r')\n",
    "ax0.axhline(line_num, color='w', linestyle='--')\n",
    "ax0.set_title('Image')\n",
    "ax1.plot(image_line)\n",
    "ax1.set_title('Intensity along line')\n",
    "plt.show()"
   ]
  },
  {
   "cell_type": "code",
   "execution_count": null,
   "metadata": {},
   "outputs": [],
   "source": [
    "disk_fooprint = skimage.morphology.disk(3)\n",
    "plt.imshow(disk_fooprint)"
   ]
  },
  {
   "cell_type": "code",
   "execution_count": null,
   "metadata": {},
   "outputs": [],
   "source": [
    "filtered_image = skimage.filters.median(crop_image, footprint=skimage.morphology.disk(2))\n",
    "\n",
    "filtered_image_line = filtered_image[line_num,:]\n",
    "\n",
    "fig, (ax0, ax1) = plt.subplots(ncols=2, figsize=(15,7))\n",
    "ax0.imshow(filtered_image, cmap='Greys_r')\n",
    "ax0.axhline(line_num, color='w', linestyle='--')\n",
    "ax0.set_title('Filtered image')\n",
    "ax1.plot(filtered_image_line)\n",
    "ax1.set_title('Intensity along line')\n",
    "plt.show()"
   ]
  },
  {
   "cell_type": "code",
   "execution_count": null,
   "metadata": {},
   "outputs": [],
   "source": [
    "filtered_otsu_mask = filtered_image > skimage.filters.threshold_otsu(filtered_image)\n",
    "\n",
    "filtered_multi_otsu_th = skimage.filters.threshold_multiotsu(filtered_image, classes=3)\n",
    "filtered_multiotsu_mask = np.digitize(filtered_image, bins=multi_otsu_th)\n",
    "\n",
    "\n",
    "fig, ax = plt.subplots(ncols=2, nrows=2, figsize=(10,10))\n",
    "ax[0,0].imshow(otsu_mask, cmap='seismic')\n",
    "ax[0,0].set_title('Otsu mask')\n",
    "ax[0,1].imshow(filtered_otsu_mask, cmap='seismic')\n",
    "ax[0,1].set_title('Otsu mask, after filtering')\n",
    "ax[1,0].imshow(multiotsu_mask, cmap='seismic')\n",
    "ax[1,0].set_title('Multi-Otsu mask')\n",
    "ax[1,1].imshow(filtered_multiotsu_mask, cmap='seismic')\n",
    "ax[1,1].set_title('Multi-Otsu mask, after filtering')\n",
    "plt.show()"
   ]
  },
  {
   "cell_type": "markdown",
   "metadata": {},
   "source": [
    "## Морфологічні оператори"
   ]
  },
  {
   "cell_type": "code",
   "execution_count": null,
   "metadata": {},
   "outputs": [],
   "source": [
    "mask_fragment = filtered_otsu_mask[100:200,:100]\n",
    "print(mask_fragment.shape)\n",
    "\n",
    "plt.figure(figsize=(10,10))\n",
    "plt.imshow(mask_fragment)"
   ]
  },
  {
   "cell_type": "code",
   "execution_count": null,
   "metadata": {},
   "outputs": [],
   "source": [
    "dilated_mask = skimage.morphology.dilation(mask_fragment, footprint=skimage.morphology.disk(3))\n",
    "eroded_mask = skimage.morphology.erosion(mask_fragment, footprint=skimage.morphology.disk(3))\n",
    "\n",
    "fig, ax = plt.subplots(ncols=3, figsize=(18,18))\n",
    "ax[0].imshow(mask_fragment)\n",
    "ax[0].set_title('Raw mask')\n",
    "ax[1].imshow(dilated_mask)\n",
    "ax[1].set_title('Dilated mask')\n",
    "ax[2].imshow(eroded_mask)\n",
    "ax[2].set_title('Eroded mask')\n",
    "plt.show()"
   ]
  },
  {
   "cell_type": "code",
   "execution_count": null,
   "metadata": {},
   "outputs": [],
   "source": [
    "opened_mask = skimage.morphology.opening(mask_fragment, footprint=skimage.morphology.disk(3))\n",
    "closed_mask = skimage.morphology.closing(mask_fragment, footprint=skimage.morphology.disk(3))\n",
    "\n",
    "fig, ax = plt.subplots(ncols=3, figsize=(18,18))\n",
    "ax[0].imshow(mask_fragment)\n",
    "ax[0].set_title('Raw mask')\n",
    "ax[1].imshow(opened_mask)\n",
    "ax[1].set_title('Opened mask')\n",
    "ax[2].imshow(closed_mask)\n",
    "ax[2].set_title('Closed mask')\n",
    "plt.show()"
   ]
  },
  {
   "cell_type": "code",
   "execution_count": null,
   "metadata": {},
   "outputs": [],
   "source": [
    "pre_final_mask = skimage.morphology.closing(filtered_otsu_mask, footprint=skimage.morphology.disk(3))\n",
    "final_mask = skimage.morphology.opening(pre_final_mask, footprint=skimage.morphology.disk(7))\n",
    "\n",
    "fig, ax = plt.subplots(ncols=4, figsize=(18,18))\n",
    "ax[0].imshow(otsu_mask)\n",
    "ax[0].set_title('Otsu mask, raw data')\n",
    "ax[1].imshow(filtered_otsu_mask)\n",
    "ax[1].set_title('Otsu mask')\n",
    "ax[2].imshow(pre_final_mask)\n",
    "ax[2].set_title('Closed pre-fin mask')\n",
    "ax[3].imshow(final_mask)\n",
    "ax[3].set_title('Opened fin mask')\n",
    "plt.show()"
   ]
  },
  {
   "cell_type": "markdown",
   "metadata": {},
   "source": [
    "# Завдання\n",
    "---\n",
    "\n",
    "Напишіть функцію що приймала б на вхід 2D-зображення і повертала подвійну картинку де ліворуч відображалось би вхідне зображення, а праворуч фінальна маска отримана за методом Отсу.\n",
    "\n",
    "Можете створити для зображеня власну просту кольорову мапу (червону, синю, зелену), або можете ознаймотись із доступними в [matplotlib](https://matplotlib.org/stable/users/explain/colors/colormaps.html).\n",
    "\n",
    "Також можете спробувати побудувати маску для 3D time series/z-stack, по обному з кадрів чи користуючись усередненим зображенням що можна отримати за допомогою функції `np.mean()` ([документація функції](https://numpy.org/doc/stable/reference/generated/numpy.mean.html)). "
   ]
  },
  {
   "cell_type": "markdown",
   "metadata": {},
   "source": [
    "## Приклад функції Python"
   ]
  },
  {
   "cell_type": "code",
   "execution_count": null,
   "metadata": {},
   "outputs": [],
   "source": [
    "def crop_image_func(input_image):\n",
    "    output_image = input_image[0:300,0:300]\n",
    "\n",
    "    return output_image, np.max(output_image)\n",
    "\n",
    "demo_crop_image, demo_maxval_image = crop_image_func(image)\n",
    "\n",
    "print(demo_maxval_image)\n",
    "plt.imshow(demo_crop_image)"
   ]
  },
  {
   "cell_type": "code",
   "execution_count": null,
   "metadata": {},
   "outputs": [],
   "source": [
    "def cell_detector(input_image):\n",
    "    pass # видаліть цей оператор і напишіть свій код тут"
   ]
  }
 ],
 "metadata": {
  "kernelspec": {
   "display_name": "bds3_env",
   "language": "python",
   "name": "python3"
  },
  "language_info": {
   "codemirror_mode": {
    "name": "ipython",
    "version": 3
   },
   "file_extension": ".py",
   "mimetype": "text/x-python",
   "name": "python",
   "nbconvert_exporter": "python",
   "pygments_lexer": "ipython3",
   "version": "3.12.3"
  },
  "orig_nbformat": 4
 },
 "nbformat": 4,
 "nbformat_minor": 2
}
